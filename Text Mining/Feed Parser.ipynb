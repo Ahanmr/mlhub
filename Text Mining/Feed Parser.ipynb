{
 "cells": [
  {
   "cell_type": "markdown",
   "metadata": {},
   "source": [
    "# Topic Modelling and Clustering a RSS feed\n",
    "\n",
    "*Modules used:*\n",
    "* Scikit-Learn\n",
    "* nltk\n",
    "* feedparser"
   ]
  },
  {
   "cell_type": "code",
   "execution_count": 1,
   "metadata": {
    "collapsed": true
   },
   "outputs": [],
   "source": [
    "import feedparser\n",
    "import re\n",
    "from nltk.corpus import stopwords\n",
    "from nltk.tokenize import wordpunct_tokenize\n",
    "import string\n",
    "from collections import Counter\n",
    "stop_words = set(stopwords.words('english'))\n",
    "stop_words.update(string.punctuation) "
   ]
  },
  {
   "cell_type": "code",
   "execution_count": 2,
   "metadata": {},
   "outputs": [],
   "source": [
    "def getwords(html):\n",
    "    '''\n",
    "    Remove HTML, tokenize and lower the case\n",
    "    '''\n",
    "    txt = re.compile(r'<[^>]+>').sub('',html)\n",
    "    word_list=[i.lower() for i in wordpunct_tokenize(txt) if i.lower() not in stop_words]\n",
    "    return word_list"
   ]
  },
  {
   "cell_type": "code",
   "execution_count": 3,
   "metadata": {},
   "outputs": [],
   "source": [
    "def getwordcounts(url):\n",
    "    '''\n",
    "    Returns list of blog posts\n",
    "    '''\n",
    "    d = feedparser.parse(url)\n",
    "    wc = {}\n",
    "    summary = []\n",
    "    for e in d.entries:\n",
    "        if 'summary' in e:\n",
    "            summary.append(e.title + e.summary)\n",
    "        else:\n",
    "            summary.append(e.title + e.description)\n",
    "    return summary"
   ]
  },
  {
   "cell_type": "code",
   "execution_count": 4,
   "metadata": {
    "collapsed": true
   },
   "outputs": [],
   "source": [
    "summary = getwordcounts('https://sethuiyer.wordpress.com/feed/atom/')"
   ]
  },
  {
   "cell_type": "code",
   "execution_count": 5,
   "metadata": {},
   "outputs": [],
   "source": [
    "from sklearn.cluster import KMeans\n",
    "from sklearn.feature_extraction.text import TfidfVectorizer\n",
    "vectorizer = TfidfVectorizer(tokenizer=getwords,\n",
    "                                 max_df=0.5,\n",
    "                                 min_df=0.1,\n",
    "                                 lowercase=True)\n",
    "tfidf_model = vectorizer.fit_transform(summary)"
   ]
  },
  {
   "cell_type": "code",
   "execution_count": 6,
   "metadata": {},
   "outputs": [],
   "source": [
    "import collections\n",
    "km_model = KMeans(n_clusters=3)\n",
    "km_model.fit(tfidf_model)\n",
    "clustering = collections.defaultdict(list)\n",
    " \n",
    "for idx, label in enumerate(km_model.labels_):\n",
    "    clustering[label].append(idx)"
   ]
  },
  {
   "cell_type": "code",
   "execution_count": 7,
   "metadata": {},
   "outputs": [],
   "source": [
    "from sklearn.decomposition import NMF\n",
    "nmf = NMF(n_components=3, random_state=1,\n",
    "          alpha=.1, l1_ratio=.5).fit(tfidf_model)\n",
    "feature_names = vectorizer.get_feature_names()\n",
    "\n",
    "def print_top_words(model, feature_names, n_top_words=2):\n",
    "    topic_list=[]\n",
    "    for topic_idx, topic in enumerate(model.components_):\n",
    "        topic_list.append(\" \".join([feature_names[i]\n",
    "                        for i in topic.argsort()[:-n_top_words - 1:-1]]))\n",
    "    return topic_list"
   ]
  },
  {
   "cell_type": "code",
   "execution_count": 8,
   "metadata": {},
   "outputs": [],
   "source": [
    "topic_list=print_top_words(nmf, vectorizer.get_feature_names(), 2)"
   ]
  },
  {
   "cell_type": "code",
   "execution_count": 9,
   "metadata": {},
   "outputs": [
    {
     "name": "stdout",
     "output_type": "stream",
     "text": [
      "Topic Name:  data started\n",
      "Documents in the cluster:  [1, 2]\n",
      "----------------\n",
      "Topic Name:  extension limitless\n",
      "Documents in the cluster:  [3, 4]\n",
      "----------------\n",
      "Topic Name:  classification vector\n",
      "Documents in the cluster:  [0, 5]\n",
      "----------------\n"
     ]
    }
   ],
   "source": [
    "for i in range(3):\n",
    "    print(\"Topic Name: \",topic_list[i])\n",
    "    print(\"Documents in the cluster: \",clustering[i])\n",
    "    print('----------------')"
   ]
  }
 ],
 "metadata": {
  "kernelspec": {
   "display_name": "Python 3",
   "language": "python",
   "name": "python3"
  },
  "language_info": {
   "codemirror_mode": {
    "name": "ipython",
    "version": 3
   },
   "file_extension": ".py",
   "mimetype": "text/x-python",
   "name": "python",
   "nbconvert_exporter": "python",
   "pygments_lexer": "ipython3",
   "version": "3.5.2"
  }
 },
 "nbformat": 4,
 "nbformat_minor": 2
}
