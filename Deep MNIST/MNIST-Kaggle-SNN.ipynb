{
 "cells": [
  {
   "cell_type": "markdown",
   "metadata": {},
   "source": [
    "# MNIST using Self Normalizing Neural Networks"
   ]
  },
  {
   "cell_type": "code",
   "execution_count": 1,
   "metadata": {},
   "outputs": [
    {
     "name": "stdout",
     "output_type": "stream",
     "text": [
      "   label  pixel0  pixel1  pixel2  pixel3  pixel4  pixel5  pixel6  pixel7  \\\n",
      "0      1       0       0       0       0       0       0       0       0   \n",
      "1      0       0       0       0       0       0       0       0       0   \n",
      "2      1       0       0       0       0       0       0       0       0   \n",
      "3      4       0       0       0       0       0       0       0       0   \n",
      "4      0       0       0       0       0       0       0       0       0   \n",
      "\n",
      "   pixel8    ...     pixel774  pixel775  pixel776  pixel777  pixel778  \\\n",
      "0       0    ...            0         0         0         0         0   \n",
      "1       0    ...            0         0         0         0         0   \n",
      "2       0    ...            0         0         0         0         0   \n",
      "3       0    ...            0         0         0         0         0   \n",
      "4       0    ...            0         0         0         0         0   \n",
      "\n",
      "   pixel779  pixel780  pixel781  pixel782  pixel783  \n",
      "0         0         0         0         0         0  \n",
      "1         0         0         0         0         0  \n",
      "2         0         0         0         0         0  \n",
      "3         0         0         0         0         0  \n",
      "4         0         0         0         0         0  \n",
      "\n",
      "[5 rows x 785 columns]\n"
     ]
    }
   ],
   "source": [
    "import pandas as pd\n",
    "train_data = pd.read_csv('train.csv')\n",
    "print(train_data.head())"
   ]
  },
  {
   "cell_type": "code",
   "execution_count": 2,
   "metadata": {},
   "outputs": [
    {
     "name": "stderr",
     "output_type": "stream",
     "text": [
      "c:\\users\\sethuiyer\\appdata\\local\\programs\\python\\python35\\lib\\site-packages\\ipykernel_launcher.py:5: DeprecationWarning: \n",
      ".ix is deprecated. Please use\n",
      ".loc for label based indexing or\n",
      ".iloc for positional indexing\n",
      "\n",
      "See the documentation here:\n",
      "http://pandas.pydata.org/pandas-docs/stable/indexing.html#deprecate_ix\n",
      "  \"\"\"\n"
     ]
    },
    {
     "data": {
      "image/png": "[encoded data removed]",
      "text/plain": [
       "<matplotlib.figure.Figure at 0xfae10314e0>"
      ]
     },
     "metadata": {},
     "output_type": "display_data"
    }
   ],
   "source": [
    "from matplotlib import pyplot as plt\n",
    "%matplotlib inline\n",
    "import numpy as np\n",
    "def visualize_digits(i):\n",
    "    pixel_value_i = train_data.ix[i][1:]\n",
    "    pixel_value_i = pixel_value_i.values.reshape([28,28])\n",
    "    plt.imshow(pixel_value_i,cmap='Greys')\n",
    "    plt.text(28.,28.,'Label : ' + str(train_data.ix[i]['label']))\n",
    "    plt.show()\n",
    "visualize_digits(192)"
   ]
  },
  {
   "cell_type": "code",
   "execution_count": 3,
   "metadata": {},
   "outputs": [],
   "source": [
    "train_data_numpy=np.array(train_data)\n",
    "X_train = train_data_numpy[:,1:]\n",
    "Y_train=train_data_numpy[:,0]"
   ]
  },
  {
   "cell_type": "code",
   "execution_count": 4,
   "metadata": {
    "collapsed": true
   },
   "outputs": [],
   "source": [
    "from sklearn.preprocessing import StandardScaler\n",
    "import numpy as np\n",
    "import tensorflow as tf\n",
    "from selu import *"
   ]
  },
  {
   "cell_type": "code",
   "execution_count": 5,
   "metadata": {
    "collapsed": true
   },
   "outputs": [],
   "source": [
    "# Parameters\n",
    "learning_rate = 0.05\n",
    "training_epochs = 20\n",
    "batch_size = 512\n",
    "display_step = 1\n",
    "\n",
    "# Network Parameters\n",
    "n_hidden_1 = 784 # 1st layer number of features\n",
    "n_hidden_2 = 784 # 2nd layer number of features\n",
    "n_input = 784 # MNIST data input (img shape: 28*28)\n",
    "n_classes = 10 # MNIST total classes (0-9 digits)\n",
    "\n",
    "# tf Graph input\n",
    "x = tf.placeholder(\"float\", [None, n_input],name=\"train_inp\")\n",
    "y = tf.placeholder(\"float\", [None, n_classes],name=\"train_out\")\n",
    "dropoutRate = tf.placeholder(tf.float32,name=\"dropout\")\n",
    "is_training= tf.placeholder(tf.bool,name=\"is_training\")"
   ]
  },
  {
   "cell_type": "code",
   "execution_count": 6,
   "metadata": {},
   "outputs": [
    {
     "name": "stderr",
     "output_type": "stream",
     "text": [
      "c:\\users\\sethuiyer\\appdata\\local\\programs\\python\\python35\\lib\\site-packages\\sklearn\\utils\\validation.py:429: DataConversionWarning: Data with input dtype int64 was converted to float64 by StandardScaler.\n",
      "  warnings.warn(msg, _DataConversionWarning)\n"
     ]
    }
   ],
   "source": [
    "scaler = StandardScaler().fit(X_train)"
   ]
  },
  {
   "cell_type": "code",
   "execution_count": 7,
   "metadata": {
    "collapsed": true
   },
   "outputs": [],
   "source": [
    "logs_path = './logs/'  #tensorboard\n",
    "# Create model\n",
    "def multilayer_perceptron(x, weights, biases, rate, is_training):\n",
    "    # Hidden layer with SELU activation\n",
    "    layer_1 = tf.add(tf.matmul(x, weights['h1']), biases['b1'])\n",
    "    #netI_1 = layer_1\n",
    "    layer_1 = selu(layer_1)\n",
    "    layer_1 = dropout_selu(layer_1,rate, training=is_training)\n",
    "    \n",
    "    # Hidden layer with SELU activation\n",
    "    layer_2 = tf.add(tf.matmul(layer_1, weights['h2']), biases['b2'])\n",
    "    #netI_2 = layer_2\n",
    "    layer_2 = selu(layer_2)\n",
    "    layer_2 = dropout_selu(layer_2,rate, training=is_training)\n",
    "\n",
    "    # Output layer with linear activation\n",
    "    out_layer = tf.matmul(layer_2, weights['out']) + biases['out']\n",
    "    return out_layer"
   ]
  },
  {
   "cell_type": "code",
   "execution_count": 8,
   "metadata": {},
   "outputs": [],
   "source": [
    "# Store layers weight & bias\n",
    "weights = {\n",
    "    'h1': tf.Variable(tf.random_normal([n_input, n_hidden_1],stddev=np.sqrt(1/n_input))),\n",
    "    'h2': tf.Variable(tf.random_normal([n_hidden_1, n_hidden_2],stddev=np.sqrt(1/n_hidden_1))),\n",
    "    'out': tf.Variable(tf.random_normal([n_hidden_2, n_classes],stddev=np.sqrt(1/n_hidden_2)))\n",
    "}\n",
    "biases = {\n",
    "    'b1': tf.Variable(tf.random_normal([n_hidden_1],stddev=0)),\n",
    "    'b2': tf.Variable(tf.random_normal([n_hidden_2],stddev=0)),\n",
    "    'out': tf.Variable(tf.random_normal([n_classes],stddev=0))\n",
    "}\n",
    "# Construct model\n",
    "pred = multilayer_perceptron(x, weights, biases, rate=dropoutRate, is_training=is_training)\n",
    "correct_pred=tf.argmax(pred,1)\n",
    "# Define loss and optimizer\n",
    "cost = tf.reduce_mean(tf.nn.softmax_cross_entropy_with_logits(logits=pred, labels=y))\n",
    "optimizer = tf.train.GradientDescentOptimizer(learning_rate=learning_rate).minimize(cost)\n",
    "\n",
    " # Test model\n",
    "correct_prediction = tf.equal(tf.argmax(pred, 1), tf.argmax(y, 1))\n",
    "# Calculate accuracy\n",
    "accuracy = tf.reduce_mean(tf.cast(correct_prediction, \"float\"))\n",
    "         \n",
    "# Initializing the variables\n",
    "init = tf.global_variables_initializer()\n",
    "# Create a histogramm for weights\n",
    "tf.summary.histogram(\"weights2\", weights['h2'])\n",
    "tf.summary.histogram(\"weights1\", weights['h1'])\n",
    "\n",
    "# Create a summary to monitor cost tensor\n",
    "tf.summary.scalar(\"loss\", cost)\n",
    "# Create a summary to monitor accuracy tensor\n",
    "tf.summary.scalar(\"accuracy\", accuracy)\n",
    "# Merge all summaries into a single op\n",
    "merged_summary_op = tf.summary.merge_all()"
   ]
  },
  {
   "cell_type": "code",
   "execution_count": 9,
   "metadata": {},
   "outputs": [],
   "source": [
    "def next_batch(batch_size):\n",
    "    i = 0\n",
    "    one_hot_y=np.zeros((batch_size,n_classes))\n",
    "    while True:\n",
    "        if i + batch_size >= len(train_data_numpy):\n",
    "            batch_x = X_train[i:]\n",
    "            batch_x=np.concatenate((batch_x,X_train[0:batch_size+i-len(train_data_numpy)]),axis=0)\n",
    "            batch_y = Y_train[i:]\n",
    "            batch_y=np.concatenate((batch_y,Y_train[0:batch_size+i-len(train_data_numpy)]),axis=0)\n",
    "            one_hot_y[np.arange(batch_size),batch_y] = 1  #convert to one hot encoding\n",
    "            batch_y = one_hot_y\n",
    "            one_hot_y=np.zeros((batch_size,n_classes))  #resetting it for future use\n",
    "            yield batch_x,batch_y\n",
    "        else:\n",
    "            batch_x = X_train[i:i+batch_size]\n",
    "            batch_y = Y_train[i:i+batch_size]\n",
    "            one_hot_y[np.arange(batch_size),batch_y] = 1  #convert to one hot encoding\n",
    "            batch_y = one_hot_y\n",
    "            one_hot_y=np.zeros((batch_size,n_classes))  #resetting it for future use\n",
    "            yield batch_x,batch_y\n",
    "        i = ( i + batch_size ) % len(X_train)\n",
    "train_next_batch = next_batch(batch_size)"
   ]
  },
  {
   "cell_type": "code",
   "execution_count": 10,
   "metadata": {},
   "outputs": [
    {
     "name": "stderr",
     "output_type": "stream",
     "text": [
      "c:\\users\\sethuiyer\\appdata\\local\\programs\\python\\python35\\lib\\site-packages\\sklearn\\utils\\validation.py:429: DataConversionWarning: Data with input dtype int64 was converted to float64 by StandardScaler.\n",
      "  warnings.warn(msg, _DataConversionWarning)\n"
     ]
    },
    {
     "name": "stdout",
     "output_type": "stream",
     "text": [
      "Epoch: 0001 cost= 0.452737899\n",
      "Train-Accuracy: 0.916016 Train-Loss: 0.278928\n",
      "Validation-Accuracy: 0.910156 Val-Loss: 0.283022 \n",
      "\n",
      "Epoch: 0002 cost= 0.289358502\n",
      "Train-Accuracy: 0.935547 Train-Loss: 0.210925\n",
      "Validation-Accuracy: 0.923828 Val-Loss: 0.278436 \n",
      "\n",
      "Epoch: 0003 cost= 0.257992939\n",
      "Train-Accuracy: 0.9375 Train-Loss: 0.238453\n",
      "Validation-Accuracy: 0.925781 Val-Loss: 0.22384 \n",
      "\n",
      "Epoch: 0004 cost= 0.237515091\n",
      "Train-Accuracy: 0.943359 Train-Loss: 0.181955\n",
      "Validation-Accuracy: 0.933594 Val-Loss: 0.232625 \n",
      "\n",
      "Epoch: 0005 cost= 0.221627768\n",
      "Train-Accuracy: 0.943359 Train-Loss: 0.202629\n",
      "Validation-Accuracy: 0.949219 Val-Loss: 0.23485 \n",
      "\n",
      "Epoch: 0006 cost= 0.207932187\n",
      "Train-Accuracy: 0.953125 Train-Loss: 0.204773\n",
      "Validation-Accuracy: 0.957031 Val-Loss: 0.161737 \n",
      "\n",
      "Epoch: 0007 cost= 0.195618209\n",
      "Train-Accuracy: 0.957031 Train-Loss: 0.144979\n",
      "Validation-Accuracy: 0.962891 Val-Loss: 0.140367 \n",
      "\n",
      "Epoch: 0008 cost= 0.184168392\n",
      "Train-Accuracy: 0.96875 Train-Loss: 0.122484\n",
      "Validation-Accuracy: 0.929688 Val-Loss: 0.226864 \n",
      "\n",
      "Epoch: 0009 cost= 0.173342479\n",
      "Train-Accuracy: 0.941406 Train-Loss: 0.188802\n",
      "Validation-Accuracy: 0.96875 Val-Loss: 0.136564 \n",
      "\n",
      "Epoch: 0010 cost= 0.163184424\n",
      "Train-Accuracy: 0.976563 Train-Loss: 0.101819\n",
      "Validation-Accuracy: 0.966797 Val-Loss: 0.161194 \n",
      "\n",
      "Epoch: 0011 cost= 0.153855678\n",
      "Train-Accuracy: 0.974609 Train-Loss: 0.129327\n",
      "Validation-Accuracy: 0.953125 Val-Loss: 0.162509 \n",
      "\n",
      "Epoch: 0012 cost= 0.145196939\n",
      "Train-Accuracy: 0.958984 Train-Loss: 0.135211\n",
      "Validation-Accuracy: 0.966797 Val-Loss: 0.142844 \n",
      "\n",
      "Epoch: 0013 cost= 0.137118373\n",
      "Train-Accuracy: 0.966797 Train-Loss: 0.126028\n",
      "Validation-Accuracy: 0.980469 Val-Loss: 0.112326 \n",
      "\n",
      "Epoch: 0014 cost= 0.129475393\n",
      "Train-Accuracy: 0.980469 Train-Loss: 0.100034\n",
      "Validation-Accuracy: 0.970703 Val-Loss: 0.145786 \n",
      "\n",
      "Epoch: 0015 cost= 0.122335921\n",
      "Train-Accuracy: 0.972656 Train-Loss: 0.12627\n",
      "Validation-Accuracy: 0.958984 Val-Loss: 0.119761 \n",
      "\n",
      "Epoch: 0016 cost= 0.115718366\n",
      "Train-Accuracy: 0.964844 Train-Loss: 0.11077\n",
      "Validation-Accuracy: 0.958984 Val-Loss: 0.1511 \n",
      "\n",
      "Epoch: 0017 cost= 0.109626588\n",
      "Train-Accuracy: 0.964844 Train-Loss: 0.129016\n",
      "Validation-Accuracy: 0.976563 Val-Loss: 0.0925002 \n",
      "\n",
      "Epoch: 0018 cost= 0.103816105\n",
      "Train-Accuracy: 0.978516 Train-Loss: 0.0755353\n",
      "Validation-Accuracy: 0.976563 Val-Loss: 0.0831641 \n",
      "\n",
      "Epoch: 0019 cost= 0.098371485\n",
      "Train-Accuracy: 0.982422 Train-Loss: 0.0731136\n",
      "Validation-Accuracy: 0.982422 Val-Loss: 0.0633602 \n",
      "\n",
      "Epoch: 0020 cost= 0.093302817\n",
      "Train-Accuracy: 0.984375 Train-Loss: 0.0540941\n",
      "Validation-Accuracy: 0.982422 Val-Loss: 0.0789231 \n",
      "\n"
     ]
    }
   ],
   "source": [
    "# Launch the graph\n",
    "gpu_options = tf.GPUOptions(allow_growth=True)\n",
    "with tf.Session(config=tf.ConfigProto(gpu_options=gpu_options)) as sess:\n",
    "    sess.run(init)\n",
    "\n",
    "    summary_writer = tf.summary.FileWriter(logs_path, graph=tf.get_default_graph())\n",
    "\n",
    "    # Training cycle\n",
    "    for epoch in range(training_epochs):\n",
    "        avg_cost = 0.\n",
    "        total_batch = int(len(X_train)/batch_size)\n",
    "        # Loop over all batches\n",
    "        for i in range(total_batch):\n",
    "            batch_x, batch_y = next(train_next_batch)\n",
    "            batch_x = scaler.transform(batch_x)\n",
    "            # Run optimization op (backprop) and cost op (to get loss value)\n",
    "            _, c = sess.run([optimizer, cost], feed_dict={x: batch_x,\n",
    "                                                          y: batch_y, dropoutRate: 0.0, is_training:True})\n",
    "\n",
    "            # Compute average loss\n",
    "            avg_cost += c / total_batch\n",
    "        # Display logs per epoch step\n",
    "        if epoch % display_step == 0:\n",
    "            print (\"Epoch:\", '%04d' % (epoch+1), \"cost=\",\"{:.9f}\".format(avg_cost))\n",
    "            \n",
    "            accTrain, costTrain, summary = sess.run([accuracy, cost, merged_summary_op], \n",
    "                                                        feed_dict={x: batch_x, y: batch_y, \n",
    "                                                                   dropoutRate: 0.1, is_training:False})\n",
    "            summary_writer.add_summary(summary, epoch)\n",
    "            \n",
    "            print(\"Train-Accuracy:\", accTrain,\"Train-Loss:\", costTrain)\n",
    "\n",
    "            batch_x_test, batch_y_test = next(train_next_batch)\n",
    "            batch_x_test = scaler.transform(batch_x_test)\n",
    "\n",
    "            accTest, costVal = sess.run([accuracy, cost], feed_dict={x: batch_x_test, y: batch_y_test, \n",
    "                                                                   dropoutRate: 0.0, is_training:False})\n",
    "\n",
    "            print(\"Validation-Accuracy:\", accTest,\"Val-Loss:\", costVal,\"\\n\")\n",
    "            saver = tf.train.Saver()\n",
    "            saver.save(sess,'./mnist_snn')"
   ]
  },
  {
   "cell_type": "code",
   "execution_count": 11,
   "metadata": {},
   "outputs": [
    {
     "name": "stdout",
     "output_type": "stream",
     "text": [
      "INFO:tensorflow:Restoring parameters from ./mnist_snn\n"
     ]
    }
   ],
   "source": [
    "sess = tf.Session()\n",
    "new_saver = tf.train.import_meta_graph('./mnist_snn.meta')\n",
    "new_saver.restore(sess, tf.train.latest_checkpoint('./'))"
   ]
  },
  {
   "cell_type": "code",
   "execution_count": 12,
   "metadata": {},
   "outputs": [
    {
     "data": {
      "image/png": "[encoded data removed]",
      "text/plain": [
       "<matplotlib.figure.Figure at 0xfa9fad9400>"
      ]
     },
     "metadata": {},
     "output_type": "display_data"
    },
    {
     "name": "stdout",
     "output_type": "stream",
     "text": [
      "Actual Label : 7\n",
      "Predicted Label :  7\n"
     ]
    }
   ],
   "source": [
    "def predict(i):\n",
    "    example_x=train_data.ix[i][1:]\n",
    "    example_y=train_data.ix[i][0]\n",
    "    visualize_digits(i)\n",
    "    example_x=example_x.values.reshape([-1,784])\n",
    "    print('Actual Label :', example_y)\n",
    "    preds = sess.run([correct_pred],feed_dict={x:example_x,dropoutRate: 0.0, is_training:False})\n",
    "    print ('Predicted Label : ', preds[0][0])\n",
    "predict(1022)"
   ]
  }
 ],
 "metadata": {
  "kernelspec": {
   "display_name": "Python 3",
   "language": "python",
   "name": "python3"
  },
  "language_info": {
   "codemirror_mode": {
    "name": "ipython",
    "version": 3
   },
   "file_extension": ".py",
   "mimetype": "text/x-python",
   "name": "python",
   "nbconvert_exporter": "python",
   "pygments_lexer": "ipython3",
   "version": "3.5.2"
  }
 },
 "nbformat": 4,
 "nbformat_minor": 2
}
