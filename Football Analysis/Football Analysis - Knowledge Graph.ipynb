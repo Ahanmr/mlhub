{
 "cells": [
  {
   "cell_type": "markdown",
   "metadata": {},
   "source": [
    "### Construction of Knowledge Graph"
   ]
  },
  {
   "cell_type": "code",
   "execution_count": 1,
   "metadata": {
    "collapsed": true
   },
   "outputs": [],
   "source": [
    "import pandas as pd\n",
    "\n",
    "def convert_str(a):\n",
    "    '''\n",
    "    Accepts: String in form of a-b, returns it literally.\n",
    "    '''\n",
    "    a,b=a[0],a[-1]\n",
    "    result = 0\n",
    "    if a == 0:\n",
    "        result = -1\n",
    "    elif b == 0:\n",
    "        result = 1\n",
    "    else:\n",
    "        result = 0\n",
    "    return int(a)-int(b) + result  #extra points for good defence\n",
    "\n",
    "\n",
    "df = pd.read_csv('fd.csv')\n",
    "df.index = df[df.columns[0]]\n",
    "df.drop(df.columns[0],inplace=True,axis=1)\n",
    "\n",
    "## Knowledge graph construction starts\n",
    "\n",
    "import numpy as np\n",
    "graph = list(np.ones((20,20)))\n",
    "\n",
    "for i in range(0,19):\n",
    "    for j in range(i+1,20):\n",
    "        graph[i][j] = convert_str(df.iloc[i,j])\n",
    "        graph[j][i] = convert_str(df.iloc[j,i])\n",
    "        \n",
    "df2 = pd.read_csv('fd2015.csv')\n",
    "df2.index = df2[df2.columns[0]]\n",
    "df2.drop(df2.columns[0],inplace=True,axis=1)\n",
    "\n",
    "for i in range(0,19):\n",
    "    for j in range(i+1,20):\n",
    "        if df2.columns[i] in df.columns and df2.columns[j] in df.columns:\n",
    "            graph[i][j] = float((graph[i][j] + convert_str(df2.iloc[i,j])))/2.0\n",
    "            graph[j][i] = float((graph[j][i] + convert_str(df2.iloc[j,i])))/2.0\n",
    "\n",
    "df3 = pd.read_csv('fd2016.csv')\n",
    "df3.index = df3[df3.columns[0]]\n",
    "df3.drop(df3.columns[0],inplace=True,axis=1)\n",
    "\n",
    "for i in range(0,19):\n",
    "    for j in range(i+1,20):\n",
    "        if df3.columns[i] in df.columns and df3.columns[j] in df.columns:\n",
    "            graph[i][j] = float((graph[i][j] + convert_str(df3.iloc[i,j])))/2.0\n",
    "            graph[j][i] = float((graph[j][i] + convert_str(df3.iloc[j,i])))/2.0\n",
    "\n",
    "graph = np.array(graph)"
   ]
  },
  {
   "cell_type": "markdown",
   "metadata": {},
   "source": [
    "### Taking Decision"
   ]
  },
  {
   "cell_type": "code",
   "execution_count": 2,
   "metadata": {},
   "outputs": [],
   "source": [
    "max_margin = np.max(graph)\n",
    "min_margin = np.min(graph)\n",
    "\n",
    "established_total_weights = [sum(graph[j]) for j in range(20)]\n",
    "\n",
    "def uniform_distri(x,max_margin,min_margin):\n",
    "    return float((x-min_margin))/float((max_margin-min_margin))\n",
    "\n",
    "def intimidation_factor(team1_str,team2_str):\n",
    "    total_weights = [sum(graph[j]) for j in range(0,20)]\n",
    "    min_tot = min(total_weights)\n",
    "    max_tot = max(total_weights)\n",
    "    id1 = list(df.columns.values).index(team1_str)\n",
    "    id2 = list(df.columns.values).index(team2_str)\n",
    "    return abs(float(total_weights[id1]-total_weights[id2])/(max_tot-min_tot))\n",
    "    \n",
    "\n",
    "def who_will_win(team1_str,team2_str):\n",
    "    id1 = list(df.columns.values).index(team1_str)\n",
    "    id2 = list(df.columns.values).index(team2_str)\n",
    "    value = graph[id1][id2]\n",
    "    past_result = uniform_distri(value,max_margin,min_margin)\n",
    "    intimidation_result = intimidation_factor(team1_str,team2_str)\n",
    "    result = 0.48 * intimidation_result + 0.52 * past_result \n",
    "    return result\n",
    "\n",
    "\n",
    "def choose_two_teams(avaliable_players):\n",
    "    team1 = np.random.choice(avaliable_players)\n",
    "    team2 = team1\n",
    "    while team2 == team1:\n",
    "        team2 = np.random.choice(avaliable_players)\n",
    "    return team1,team2\n",
    "\n",
    "def simulate_tournament():\n",
    "    avaliable_players = list(df.columns.values)\n",
    "    while len(avaliable_players)!=1:\n",
    "        team1,team2 = choose_two_teams(avaliable_players)\n",
    "        id1 = avaliable_players.index(team1)\n",
    "        id2 = avaliable_players.index(team2)\n",
    "        result = who_will_win(team1,team2)\n",
    "        if result >0.5:\n",
    "            del avaliable_players[id2]\n",
    "        else:\n",
    "            del avaliable_players[id1]\n",
    "    return avaliable_players[0]\n",
    "\n",
    "from collections import Counter\n",
    "def find_hot_favorites():\n",
    "    tournament_wins = []\n",
    "    for i in range(2000):\n",
    "        tournament_wins.append(simulate_tournament())\n",
    "    outcome = dict(Counter(tournament_wins))\n",
    "    actual_outcome = sorted(outcome.items(), key=lambda x: (-x[1], x[0]))\n",
    "    return actual_outcome[0][0],actual_outcome[1][0],actual_outcome[2][0]\n"
   ]
  },
  {
   "cell_type": "code",
   "execution_count": 3,
   "metadata": {},
   "outputs": [
    {
     "data": {
      "text/plain": [
       "('Chelsea', 'Manchester City', 'Arsenal')"
      ]
     },
     "execution_count": 3,
     "metadata": {},
     "output_type": "execute_result"
    }
   ],
   "source": [
    "find_hot_favorites()"
   ]
  }
 ],
 "metadata": {
  "kernelspec": {
   "display_name": "Python 3",
   "language": "python",
   "name": "python3"
  },
  "language_info": {
   "codemirror_mode": {
    "name": "ipython",
    "version": 3
   },
   "file_extension": ".py",
   "mimetype": "text/x-python",
   "name": "python",
   "nbconvert_exporter": "python",
   "pygments_lexer": "ipython3",
   "version": "3.6.3"
  }
 },
 "nbformat": 4,
 "nbformat_minor": 2
}
