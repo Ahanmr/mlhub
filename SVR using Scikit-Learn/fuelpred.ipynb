{
 "cells": [
  {
   "cell_type": "markdown",
   "metadata": {},
   "source": [
    "## Support Vector Regression using Scikit-Learn\n",
    "\n",
    "Given a regression task, use scikit-learn to use support vector regression in it. \n",
    "\n",
    "**Tools used:** Pandas, Numpy "
   ]
  },
  {
   "cell_type": "code",
   "execution_count": 2,
   "metadata": {
    "collapsed": false
   },
   "outputs": [
    {
     "name": "stderr",
     "output_type": "stream",
     "text": [
      "/usr/local/lib/python2.7/site-packages/ipykernel/__main__.py:18: SettingWithCopyWarning: \n",
      "A value is trying to be set on a copy of a slice from a DataFrame\n",
      "\n",
      "See the caveats in the documentation: http://pandas.pydata.org/pandas-docs/stable/indexing.html#indexing-view-versus-copy\n"
     ]
    }
   ],
   "source": [
    "#Import the dependencies \n",
    "\n",
    "import pandas as pd\n",
    "import numpy as np\n",
    "from matplotlib import pyplot as plt\n",
    "from sklearn import svm\n",
    "from sklearn.model_selection import train_test_split\n",
    "\n",
    "\n",
    "#Import the data \n",
    "train_data = pd.read_csv(\"dataset/train.csv\")\n",
    "\n",
    "#Clean the data\n",
    "train_data.drop('idx',axis=1,inplace=True)\n",
    "train_data_phase=[]\n",
    "for i in xrange(1,8):\n",
    "    train_ph = train_data[train_data[\"PH\"] == i]\n",
    "    train_ph.drop(\"PH\",axis=1,inplace=True)\n",
    "    train_data_phase.append(train_ph)\n",
    "    \n"
   ]
  },
  {
   "cell_type": "code",
   "execution_count": 3,
   "metadata": {
    "collapsed": false
   },
   "outputs": [],
   "source": [
    "#Split the datasets\n",
    "X_train=[]\n",
    "X_test = []\n",
    "y_train=[]\n",
    "y_test = []\n",
    "\n",
    "for i in xrange(0,7):\n",
    "    train,test=train_test_split(train_data_phase[i], test_size = 0.20)\n",
    "    y_train.append(train.ix[:,train.columns == \"FF\"])\n",
    "    y_test.append(test.ix[:,test.columns == \"FF\"])\n",
    "    X_train.append(train.ix[:, train.columns != \"FF\"])\n",
    "    X_test.append(test.ix[:,test.columns != \"FF\"])"
   ]
  },
  {
   "cell_type": "code",
   "execution_count": 4,
   "metadata": {
    "collapsed": false
   },
   "outputs": [
    {
     "name": "stderr",
     "output_type": "stream",
     "text": [
      "/usr/local/lib/python2.7/site-packages/sklearn/utils/validation.py:526: DataConversionWarning: A column-vector y was passed when a 1d array was expected. Please change the shape of y to (n_samples, ), for example using ravel().\n",
      "  y = column_or_1d(y, warn=True)\n"
     ]
    }
   ],
   "source": [
    "#Initialise the regressors\n",
    "list_svr = []\n",
    "for i in xrange(0,7):\n",
    "    list_svr.append(svm.SVR())\n",
    "    list_svr[i].fit(X_train[i],y_train[i])"
   ]
  },
  {
   "cell_type": "code",
   "execution_count": 5,
   "metadata": {
    "collapsed": false
   },
   "outputs": [],
   "source": [
    "#Calculate the test predictions\n",
    "y_pred = []\n",
    "for i in xrange(0,7):\n",
    "    y_pred.append(list_svr[i].predict(X_test[i]))"
   ]
  },
  {
   "cell_type": "code",
   "execution_count": 6,
   "metadata": {
    "collapsed": false
   },
   "outputs": [
    {
     "name": "stdout",
     "output_type": "stream",
     "text": [
      "86.0017312706\n"
     ]
    }
   ],
   "source": [
    "#Calculate the accuracy\n",
    "from sklearn.metrics import mean_squared_error\n",
    "error = 0\n",
    "for i in xrange(0,7):\n",
    "    error = error + mean_squared_error(y_test[i],y_pred[i])\n",
    "error = error / 7.0\n",
    "print error**(1./3.)  #Just a crude metric to visualise the accuracy, has no physical meaning"
   ]
  },
  {
   "cell_type": "code",
   "execution_count": 131,
   "metadata": {
    "collapsed": false
   },
   "outputs": [
    {
     "name": "stdout",
     "output_type": "stream",
     "text": [
      "   idx        ABRK     ELEV_1     ELEV_2  EVNT  FADF  FADS  FGC3  FIRE_1  \\\n",
      "0    0  119.983559  19.044380  56.936630     1    15    15   120       0   \n",
      "1    1  119.983559  19.044380  56.957088     1    15    15   120       0   \n",
      "2    2  119.983559  19.044380  56.957088     1    15    15   120       0   \n",
      "3    3  119.983559  19.064838  56.936630     1    15    15   120       0   \n",
      "4    4  119.983559  19.064838  56.916172     1    15    15   120       0   \n",
      "\n",
      "   FIRE_2 ...   BPGR_1     BPGR_2     BPYR_1  BPYR_2  CALT   CASS       CRSS  \\\n",
      "0       0 ...        0  29.296949  53.711075       0     0  135.0 -29.091582   \n",
      "1       0 ...        0  29.296949  53.711075       0     0  135.0 -29.091582   \n",
      "2       0 ...        0  24.414124  48.828247       0     0  135.0 -29.091582   \n",
      "3       0 ...        0  29.296949  48.828247       0     0  135.0 -29.091582   \n",
      "4       0 ...        0  29.296949  48.828247       0     0  135.0 -29.091582   \n",
      "\n",
      "   DFGS   DWPT  EAI  \n",
      "0     1  75024    0  \n",
      "1     1  75024    0  \n",
      "2     1  75024    0  \n",
      "3     1  75024    0  \n",
      "4     1  75024    0  \n",
      "\n",
      "[5 rows x 218 columns]\n"
     ]
    },
    {
     "name": "stderr",
     "output_type": "stream",
     "text": [
      "/usr/local/lib/python2.7/site-packages/ipykernel/__main__.py:10: SettingWithCopyWarning: \n",
      "A value is trying to be set on a copy of a slice from a DataFrame\n",
      "\n",
      "See the caveats in the documentation: http://pandas.pydata.org/pandas-docs/stable/indexing.html#indexing-view-versus-copy\n"
     ]
    }
   ],
   "source": [
    "# Get in the test data and storing the order\n",
    "test_data = pd.read_csv(\"dataset/test.csv\")\n",
    "print test_data.head()\n",
    "#cleaning the data and splitting across each PH\n",
    "test_data.drop('idx',axis=1,inplace=True)\n",
    "test_data_phase = []\n",
    "for i in xrange(1,8):\n",
    "    test = test_data[test_data[\"PH\"]==i]\n",
    "    test_data_phase.append(test)\n",
    "    test_data_phase[i-1].drop('PH',axis=1,inplace=True)"
   ]
  },
  {
   "cell_type": "code",
   "execution_count": 132,
   "metadata": {
    "collapsed": false
   },
   "outputs": [],
   "source": [
    "assert sum(test_data_phase[i].shape[0] for i in range(0,7)) == test_data.shape[0]"
   ]
  },
  {
   "cell_type": "code",
   "execution_count": 133,
   "metadata": {
    "collapsed": false
   },
   "outputs": [],
   "source": [
    "#Predict using the individual regressors\n",
    "y_pred_test = []\n",
    "for i in xrange(0,7):\n",
    "    y_pred_test.append(list_svr[i].predict(test_data_phase[i]))"
   ]
  },
  {
   "cell_type": "code",
   "execution_count": 134,
   "metadata": {
    "collapsed": false
   },
   "outputs": [],
   "source": [
    "#write the submission\n",
    "submission = np.empty([test_data.shape[0]],dtype=float)\n",
    "for i in xrange(1,8):\n",
    "    submission[test_data[test_data[\"PH\"]==i].index] = y_pred_test[i-1]"
   ]
  },
  {
   "cell_type": "code",
   "execution_count": 151,
   "metadata": {
    "collapsed": false
   },
   "outputs": [],
   "source": [
    "#Save it to text file\n",
    "np.savetxt(\"out.txt\",np.ceil(submission),fmt=\"%d\")"
   ]
  }
 ],
 "metadata": {
  "kernelspec": {
   "display_name": "Python 2",
   "language": "python",
   "name": "python2"
  },
  "language_info": {
   "codemirror_mode": {
    "name": "ipython",
    "version": 2
   },
   "file_extension": ".py",
   "mimetype": "text/x-python",
   "name": "python",
   "nbconvert_exporter": "python",
   "pygments_lexer": "ipython2",
   "version": "2.7.11"
  }
 },
 "nbformat": 4,
 "nbformat_minor": 1
}
