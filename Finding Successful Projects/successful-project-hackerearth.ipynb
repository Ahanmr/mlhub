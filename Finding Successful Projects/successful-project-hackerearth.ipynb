{
 "cells": [
  {
   "cell_type": "markdown",
   "metadata": {},
   "source": [
    "## Funding Successful Projects - Hackerearth Contest\n",
    "\n",
    "Link: [Funding Sucessful Projects](https://www.hackerearth.com/challenge/competitive/machine-learning-challenge-2/machine-learning/funding-successful-projects/)\n",
    "\n",
    "**Author: Sethu Iyer **"
   ]
  },
  {
   "cell_type": "code",
   "execution_count": 1,
   "metadata": {},
   "outputs": [
    {
     "name": "stderr",
     "output_type": "stream",
     "text": [
      "c:\\users\\sethuiyer\\appdata\\local\\programs\\python\\python35\\lib\\site-packages\\sklearn\\cross_validation.py:44: DeprecationWarning: This module was deprecated in version 0.18 in favor of the model_selection module into which all the refactored classes and functions are moved. Also note that the interface of the new CV iterators are different from that of this module. This module will be removed in 0.20.\n",
      "  \"This module will be removed in 0.20.\", DeprecationWarning)\n"
     ]
    }
   ],
   "source": [
    "import pandas as pd\n",
    "import numpy as np\n",
    "import datetime\n",
    "from nltk.corpus import stopwords\n",
    "from nltk.stem.snowball import SnowballStemmer\n",
    "from sklearn.preprocessing import LabelEncoder\n",
    "from sklearn.feature_extraction.text import CountVectorizer\n",
    "import xgboost as xgb"
   ]
  },
  {
   "cell_type": "code",
   "execution_count": 2,
   "metadata": {
    "collapsed": true
   },
   "outputs": [],
   "source": [
    "pd.set_option('display.max_colwidth',100)\n",
    "train = pd.read_csv('train.csv')\n",
    "test = pd.read_csv('test.csv')"
   ]
  },
  {
   "cell_type": "markdown",
   "metadata": {},
   "source": [
    "*Creating Features from datetime*"
   ]
  },
  {
   "cell_type": "code",
   "execution_count": 12,
   "metadata": {},
   "outputs": [],
   "source": [
    "#First, convert the timestamp to datetime object\n",
    "unix_cols = ['deadline','state_changed_at','launched_at','created_at']\n",
    "\n",
    "for cols in unix_cols:\n",
    "    train[cols] = train[cols].apply(lambda timestamp: datetime.datetime.fromtimestamp(int(timestamp)))\n",
    "    test[cols] = test[cols].apply(lambda timestamp: datetime.datetime.fromtimestamp(int(timestamp)))"
   ]
  },
  {
   "cell_type": "code",
   "execution_count": 15,
   "metadata": {},
   "outputs": [],
   "source": [
    "#time difference between 1) launched_at and created_at 2) deadline and launched_at\n",
    "train['launch_create'] = train.apply(lambda row: np.log((row['launched_at'] - row['created_at']).total_seconds()),axis=1)\n",
    "test['launch_create'] = test.apply(lambda row: np.log((row['launched_at'] - row['created_at']).total_seconds()),axis=1)"
   ]
  },
  {
   "cell_type": "code",
   "execution_count": 16,
   "metadata": {
    "collapsed": true
   },
   "outputs": [],
   "source": [
    "train['deadline_launch'] = train.apply(lambda row: np.log((row['deadline'] - row['launched_at']).total_seconds()),axis=1)\n",
    "test['deadline_launch'] = test.apply(lambda row: np.log((row['deadline'] - row['launched_at']).total_seconds()),axis=1)"
   ]
  },
  {
   "cell_type": "markdown",
   "metadata": {},
   "source": [
    "*Now, normalizing the currency*"
   ]
  },
  {
   "cell_type": "code",
   "execution_count": 17,
   "metadata": {},
   "outputs": [
    {
     "name": "stdout",
     "output_type": "stream",
     "text": [
      "['USD' 'GBP' 'CAD' 'AUD' 'NZD' 'EUR' 'SEK' 'NOK' 'DKK' 'CHF' 'HKD' 'SGD'\n",
      " 'MXN']\n"
     ]
    }
   ],
   "source": [
    "total_currency = train['currency'].append(test['currency'])\n",
    "print((pd.unique(total_currency)))"
   ]
  },
  {
   "cell_type": "code",
   "execution_count": 18,
   "metadata": {
    "collapsed": true
   },
   "outputs": [],
   "source": [
    "conversion_factor={ 'USD': 1.00,\n",
    "                    'GBP': 1.28,\n",
    "                   'CAD' : 0.75,\n",
    "                   'AUD': 0.76,\n",
    "                   'NZD': 0.73,\n",
    "                   'EUR': 1.12,\n",
    "                   'SEK':0.11,\n",
    "                   'NOK':0.12,\n",
    "                   'DKK':0.15,\n",
    "                   'CHF':1.03,\n",
    "                   'HKD':0.13,\n",
    "                   'SGD': 0.72,\n",
    "                   'MXN':0.056}\n",
    "\n",
    "train['goal'] = train.apply(lambda row : row['goal'] * conversion_factor[row['currency']],axis=1)\n",
    "test['goal'] = test.apply((lambda row : row['goal'] * conversion_factor[row['currency']]),axis=1)"
   ]
  },
  {
   "cell_type": "markdown",
   "metadata": {},
   "source": [
    "*Now, Creating some text features*"
   ]
  },
  {
   "cell_type": "code",
   "execution_count": 19,
   "metadata": {
    "collapsed": true
   },
   "outputs": [],
   "source": [
    "train['name_count'] = train['name'].str.split().str.len()\n",
    "train['desc_count'] = train['desc'].str.split().str.len()\n",
    "\n",
    "test['name_count'] = test['name'].str.split().str.len()\n",
    "test['desc_count'] = test['desc'].str.split().str.len()\n",
    "\n",
    "train['keywords_len'] = train['keywords'].str.len()\n",
    "train['keywords_count'] = train['keywords'].str.split('-').str.len()\n",
    "\n",
    "test['keywords_len'] = test['keywords'].str.len()\n",
    "test['keywords_count'] = test['keywords'].str.split('-').str.len()"
   ]
  },
  {
   "cell_type": "markdown",
   "metadata": {},
   "source": [
    "*Creating more complex text feature*"
   ]
  },
  {
   "cell_type": "code",
   "execution_count": 24,
   "metadata": {},
   "outputs": [],
   "source": [
    "import re\n",
    "def desc_clean(word):\n",
    "    p1 = re.sub(pattern='(\\W+)|(\\d+)|(\\s+)',repl=' ',string=word)\n",
    "    p1 = p1.lower()\n",
    "    return p1\n",
    "\n",
    "kickdesc = pd.Series(train['desc'].tolist() + test['desc'].tolist()).astype(str)\n",
    "kickdesc=kickdesc.map(desc_clean)"
   ]
  },
  {
   "cell_type": "code",
   "execution_count": 25,
   "metadata": {
    "collapsed": true
   },
   "outputs": [],
   "source": [
    "stop = set(stopwords.words('english'))\n",
    "kickdesc = [[x for x in x.split() if x not in stop] for x in kickdesc]\n",
    "stemmer = SnowballStemmer(language='english')\n",
    "kickdesc = [[stemmer.stem(x) for x in x] for x in kickdesc]\n",
    "kickdesc = [[x for x in x if len(x) > 2] for x in kickdesc]\n",
    "kickdesc = [' '.join(x) for x in kickdesc]"
   ]
  },
  {
   "cell_type": "code",
   "execution_count": 26,
   "metadata": {
    "collapsed": true
   },
   "outputs": [],
   "source": [
    "cv = CountVectorizer(max_features=300)\n",
    "combine=pd.DataFrame(cv.fit_transform(kickdesc).todense())\n",
    "combine.rename(columns= lambda x: 'variable_'+ str(x), inplace=True)"
   ]
  },
  {
   "cell_type": "code",
   "execution_count": 27,
   "metadata": {
    "collapsed": true
   },
   "outputs": [],
   "source": [
    "train_text = combine[:train.shape[0]]\n",
    "test_text = combine[train.shape[0]:]\n",
    "test_text.reset_index(drop=True,inplace=True)"
   ]
  },
  {
   "cell_type": "markdown",
   "metadata": {},
   "source": [
    "*Creating some more text features*"
   ]
  },
  {
   "cell_type": "code",
   "execution_count": 30,
   "metadata": {},
   "outputs": [],
   "source": [
    "len_feats = ['name_len','desc_len']\n",
    "cols_to_use=['name','desc']\n",
    "for i in np.arange(2):\n",
    "    train[len_feats[i]] = train[cols_to_use[i]].apply(str).apply(len)\n",
    "    test[len_feats[i]] = test[cols_to_use[i]].apply(str).apply(len)"
   ]
  },
  {
   "cell_type": "markdown",
   "metadata": {},
   "source": [
    "*Finalize the training and testing data before training*"
   ]
  },
  {
   "cell_type": "code",
   "execution_count": 31,
   "metadata": {
    "collapsed": true
   },
   "outputs": [],
   "source": [
    "cols_to_use = ['name_len','desc_len','keywords_len','name_count','desc_count','keywords_count','goal','launch_create','deadline_launch']\n",
    "\n",
    "target = train['final_status']\n",
    "train = train[cols_to_use]\n",
    "test = test[cols_to_use]"
   ]
  },
  {
   "cell_type": "code",
   "execution_count": 32,
   "metadata": {
    "collapsed": true
   },
   "outputs": [],
   "source": [
    "X_train = pd.concat([train, train_text],axis=1)\n",
    "X_test = pd.concat([test, test_text],axis=1)"
   ]
  },
  {
   "cell_type": "markdown",
   "metadata": {},
   "source": [
    "*It's training time! *"
   ]
  },
  {
   "cell_type": "code",
   "execution_count": 33,
   "metadata": {
    "collapsed": true
   },
   "outputs": [],
   "source": [
    "dtrain = xgb.DMatrix(data=X_train, label = target)\n",
    "dtest = xgb.DMatrix(data=X_test)"
   ]
  },
  {
   "cell_type": "code",
   "execution_count": 34,
   "metadata": {
    "collapsed": true
   },
   "outputs": [],
   "source": [
    "params = {\n",
    "    'objective':'binary:logistic',\n",
    "    'eval_metric':'error',\n",
    "    'eta':0.025,\n",
    "    'max_depth':6,\n",
    "    'subsample':0.7,\n",
    "    'colsample_bytree':0.7,\n",
    "    'min_child_weight':5\n",
    "    \n",
    "}"
   ]
  },
  {
   "cell_type": "code",
   "execution_count": 36,
   "metadata": {},
   "outputs": [
    {
     "name": "stdout",
     "output_type": "stream",
     "text": [
      "[0]\ttrain-error:0.315239+0.000786469\ttest-error:0.317595+0.00302803\n",
      "[10]\ttrain-error:0.311748+0.00140474\ttest-error:0.314747+0.00238244\n",
      "[20]\ttrain-error:0.309938+0.00135817\ttest-error:0.313461+0.00275844\n",
      "[30]\ttrain-error:0.307896+0.000938205\ttest-error:0.312102+0.00199129\n",
      "[40]\ttrain-error:0.306194+0.000681755\ttest-error:0.310936+0.00222002\n",
      "[50]\ttrain-error:0.304435+0.000868213\ttest-error:0.309346+0.00200397\n",
      "[60]\ttrain-error:0.303325+0.000811598\ttest-error:0.308449+0.0023855\n",
      "[70]\ttrain-error:0.30157+0.000816076\ttest-error:0.307403+0.00218977\n",
      "[80]\ttrain-error:0.299995+0.00073359\ttest-error:0.306146+0.0022786\n",
      "[90]\ttrain-error:0.298793+0.000781755\ttest-error:0.305239+0.00214781\n",
      "[100]\ttrain-error:0.297748+0.000790003\ttest-error:0.304222+0.0021566\n",
      "[110]\ttrain-error:0.296742+0.000669909\ttest-error:0.303723+0.00163475\n",
      "[120]\ttrain-error:0.295817+0.000630149\ttest-error:0.302992+0.00177278\n",
      "[130]\ttrain-error:0.295008+0.000650693\ttest-error:0.30203+0.0018652\n",
      "[140]\ttrain-error:0.293944+0.000617596\ttest-error:0.301623+0.00225772\n",
      "[150]\ttrain-error:0.293279+0.000589511\ttest-error:0.300966+0.00232957\n",
      "[160]\ttrain-error:0.292374+0.000423867\ttest-error:0.300587+0.00254873\n",
      "[170]\ttrain-error:0.291894+0.000493364\ttest-error:0.300042+0.00259174\n",
      "[180]\ttrain-error:0.291142+0.000447689\ttest-error:0.29957+0.00263728\n",
      "[190]\ttrain-error:0.290456+0.000465127\ttest-error:0.299209+0.00245562\n",
      "[200]\ttrain-error:0.289926+0.000300983\ttest-error:0.29871+0.0026168\n",
      "[210]\ttrain-error:0.289249+0.000272225\ttest-error:0.298136+0.00278628\n",
      "[220]\ttrain-error:0.288691+0.00037546\ttest-error:0.297942+0.00248626\n",
      "[230]\ttrain-error:0.287933+0.000373337\ttest-error:0.297554+0.00259198\n",
      "[240]\ttrain-error:0.287258+0.000368768\ttest-error:0.297332+0.00230263\n",
      "[250]\ttrain-error:0.286566+0.000453324\ttest-error:0.297119+0.0021935\n",
      "[260]\ttrain-error:0.286143+0.000480822\ttest-error:0.296694+0.00203692\n",
      "[270]\ttrain-error:0.285649+0.000504702\ttest-error:0.296675+0.00216408\n",
      "[280]\ttrain-error:0.285225+0.000602094\ttest-error:0.296213+0.00203117\n",
      "[290]\ttrain-error:0.284654+0.000602347\ttest-error:0.296241+0.00219619\n",
      "[300]\ttrain-error:0.284285+0.000443388\ttest-error:0.295824+0.00209794\n",
      "[310]\ttrain-error:0.283644+0.000525295\ttest-error:0.2955+0.00209633\n",
      "[320]\ttrain-error:0.283343+0.00061536\ttest-error:0.295473+0.00205584\n",
      "[330]\ttrain-error:0.282851+0.000556045\ttest-error:0.295223+0.00187194\n",
      "[340]\ttrain-error:0.282252+0.000410802\ttest-error:0.294927+0.00194406\n",
      "[350]\ttrain-error:0.281833+0.000497332\ttest-error:0.294844+0.00182909\n",
      "[360]\ttrain-error:0.281343+0.000494241\ttest-error:0.294622+0.00181612\n",
      "[370]\ttrain-error:0.28074+0.000372459\ttest-error:0.294086+0.00165167\n",
      "[380]\ttrain-error:0.280391+0.000248586\ttest-error:0.294169+0.00179752\n",
      "[390]\ttrain-error:0.279995+0.000209866\ttest-error:0.293753+0.00162398\n",
      "[400]\ttrain-error:0.27966+0.000224273\ttest-error:0.293956+0.00163293\n",
      "[410]\ttrain-error:0.279237+0.000240321\ttest-error:0.293965+0.00159737\n",
      "[420]\ttrain-error:0.278749+0.000232209\ttest-error:0.293808+0.00153236\n",
      "[430]\ttrain-error:0.278423+0.000165318\ttest-error:0.293734+0.00154197\n",
      "[440]\ttrain-error:0.278044+0.000227689\ttest-error:0.293762+0.00170293\n",
      "[450]\ttrain-error:0.277373+0.000324512\ttest-error:0.293595+0.00169109\n",
      "[460]\ttrain-error:0.277043+0.000220998\ttest-error:0.293382+0.00160698\n",
      "[470]\ttrain-error:0.276596+0.000193554\ttest-error:0.293207+0.00150978\n",
      "[480]\ttrain-error:0.276166+0.000321578\ttest-error:0.293281+0.00183186\n",
      "[490]\ttrain-error:0.275623+0.000378994\ttest-error:0.293244+0.00189205\n",
      "[500]\ttrain-error:0.275373+0.000468219\ttest-error:0.293373+0.00183609\n",
      "[510]\ttrain-error:0.274955+0.000574439\ttest-error:0.292929+0.002033\n",
      "[520]\ttrain-error:0.27462+0.000505756\ttest-error:0.292828+0.00187148\n",
      "[530]\ttrain-error:0.274245+0.000457024\ttest-error:0.292883+0.00206126\n",
      "[540]\ttrain-error:0.273769+0.000562616\ttest-error:0.292587+0.00204954\n",
      "[550]\ttrain-error:0.27341+0.000645683\ttest-error:0.292476+0.0023613\n",
      "[560]\ttrain-error:0.272994+0.000683077\ttest-error:0.292264+0.00213156\n",
      "[570]\ttrain-error:0.272634+0.000659416\ttest-error:0.292153+0.00202745\n",
      "[580]\ttrain-error:0.272199+0.000670849\ttest-error:0.292088+0.00197809\n",
      "[590]\ttrain-error:0.271852+0.000579992\ttest-error:0.291995+0.00203614\n",
      "[600]\ttrain-error:0.271526+0.000612456\ttest-error:0.292032+0.00216537\n",
      "[610]\ttrain-error:0.271269+0.000579962\ttest-error:0.292162+0.00202512\n",
      "[620]\ttrain-error:0.270953+0.000581782\ttest-error:0.292014+0.00201798\n",
      "[630]\ttrain-error:0.270467+0.000547779\ttest-error:0.291792+0.00199251\n",
      "[640]\ttrain-error:0.270137+0.00056061\ttest-error:0.291986+0.00178127\n",
      "[650]\ttrain-error:0.269785+0.000678619\ttest-error:0.291755+0.00191478\n",
      "[660]\ttrain-error:0.269327+0.000568353\ttest-error:0.291533+0.0018293\n",
      "[670]\ttrain-error:0.269011+0.000620289\ttest-error:0.291385+0.00178354\n",
      "[680]\ttrain-error:0.268751+0.000645131\ttest-error:0.291468+0.00196489\n",
      "[690]\ttrain-error:0.268372+0.000619726\ttest-error:0.291366+0.0021829\n",
      "[700]\ttrain-error:0.26797+0.000702943\ttest-error:0.29132+0.00220548\n",
      "[710]\ttrain-error:0.267681+0.000622537\ttest-error:0.291071+0.00196498\n",
      "[720]\ttrain-error:0.267288+0.000706143\ttest-error:0.291043+0.00198403\n",
      "[730]\ttrain-error:0.266983+0.000645231\ttest-error:0.29108+0.00184812\n",
      "[740]\ttrain-error:0.266691+0.000735194\ttest-error:0.290978+0.00203883\n",
      "[750]\ttrain-error:0.266361+0.000731969\ttest-error:0.290904+0.00195183\n",
      "[760]\ttrain-error:0.266187+0.000713048\ttest-error:0.29096+0.00215193\n",
      "[770]\ttrain-error:0.265942+0.000714857\ttest-error:0.290756+0.00204698\n",
      "[780]\ttrain-error:0.265658+0.000709981\ttest-error:0.290812+0.0020717\n",
      "[790]\ttrain-error:0.265258+0.000706291\ttest-error:0.290589+0.00210501\n",
      "[800]\ttrain-error:0.26489+0.000656897\ttest-error:0.290673+0.00190387\n",
      "[810]\ttrain-error:0.264597+0.000732581\ttest-error:0.290571+0.00213222\n",
      "[820]\ttrain-error:0.264342+0.000735241\ttest-error:0.290479+0.00237082\n",
      "[830]\ttrain-error:0.263965+0.0006519\ttest-error:0.290516+0.00227529\n",
      "[840]\ttrain-error:0.263723+0.000711161\ttest-error:0.290442+0.00216522\n",
      "[850]\ttrain-error:0.263334+0.000585349\ttest-error:0.290238+0.00216131\n",
      "[860]\ttrain-error:0.263091+0.000526822\ttest-error:0.290146+0.00202669\n",
      "[870]\ttrain-error:0.262673+0.000504867\ttest-error:0.290275+0.00195305\n",
      "[880]\ttrain-error:0.262458+0.000515963\ttest-error:0.290062+0.00188352\n",
      "[890]\ttrain-error:0.262222+0.000517274\ttest-error:0.29022+0.00211965\n",
      "[900]\ttrain-error:0.261864+0.000690435\ttest-error:0.290007+0.00197233\n",
      "[910]\ttrain-error:0.261642+0.000621772\ttest-error:0.289924+0.00190545\n",
      "[920]\ttrain-error:0.261313+0.000672809\ttest-error:0.289951+0.00191195\n",
      "[930]\ttrain-error:0.261066+0.000712011\ttest-error:0.289887+0.00181031\n",
      "[940]\ttrain-error:0.260844+0.000661408\ttest-error:0.290127+0.00188669\n",
      "[950]\ttrain-error:0.260627+0.00062046\ttest-error:0.289868+0.00186479\n"
     ]
    }
   ],
   "source": [
    "bst = xgb.cv(params, dtrain, num_boost_round=1000, early_stopping_rounds=40,nfold=5,verbose_eval=10)"
   ]
  },
  {
   "cell_type": "code",
   "execution_count": 39,
   "metadata": {},
   "outputs": [],
   "source": [
    "bst_train = xgb.train(params, dtrain, num_boost_round=900)\n",
    "p_test = bst_train.predict(dtest)"
   ]
  },
  {
   "cell_type": "code",
   "execution_count": 38,
   "metadata": {
    "collapsed": true
   },
   "outputs": [],
   "source": [
    "sub = pd.DataFrame()\n",
    "test = pd.read_csv('test.csv')\n",
    "sub['project_id'] = test['project_id']\n",
    "sub['final_status'] = p_test\n",
    "sub['final_status'] = [1 if x > 0.5 else 0 for x in sub['final_status']]\n",
    "sub.to_csv(\"xgb_with_python_feats.csv\",index=False) #70.60"
   ]
  }
 ],
 "metadata": {
  "kernelspec": {
   "display_name": "Python 3",
   "language": "python",
   "name": "python3"
  },
  "language_info": {
   "codemirror_mode": {
    "name": "ipython",
    "version": 3
   },
   "file_extension": ".py",
   "mimetype": "text/x-python",
   "name": "python",
   "nbconvert_exporter": "python",
   "pygments_lexer": "ipython3",
   "version": "3.5.2"
  }
 },
 "nbformat": 4,
 "nbformat_minor": 2
}
