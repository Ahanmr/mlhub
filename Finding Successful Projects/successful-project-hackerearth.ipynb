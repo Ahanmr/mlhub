{
 "cells": [
  {
   "cell_type": "markdown",
   "metadata": {},
   "source": [
    "## Funding Successful Projects - Hackerearth Contest\n",
    "\n",
    "Link: [Funding Sucessful Projects](https://www.hackerearth.com/challenge/competitive/machine-learning-challenge-2/machine-learning/funding-successful-projects/)\n",
    "\n",
    "**Author: Sethu Iyer **"
   ]
  },
  {
   "cell_type": "code",
   "execution_count": 1,
   "metadata": {},
   "outputs": [
    {
     "name": "stdout",
     "output_type": "stream",
     "text": [
      "The train data has 108129 rows and 14 columns\n",
      "The test data has 63465 rows and 12 columns\n",
      "Index(['project_id', 'name', 'desc', 'goal', 'keywords',\n",
      "       'disable_communication', 'country', 'currency', 'deadline',\n",
      "       'state_changed_at', 'created_at', 'launched_at', 'backers_count',\n",
      "       'final_status'],\n",
      "      dtype='object')\n"
     ]
    }
   ],
   "source": [
    "#1. Import relevant libraries and load the data\n",
    "import pandas as pd\n",
    "import numpy as np\n",
    "from datetime import datetime\n",
    "train = pd.read_csv('train.csv')\n",
    "test = pd.read_csv('test.csv')\n",
    "\n",
    "print ('The train data has {} rows and {} columns'.format(train.shape[0],train.shape[1]))\n",
    "print ('The test data has {} rows and {} columns'.format(test.shape[0],test.shape[1]))\n",
    "print(train.columns)"
   ]
  },
  {
   "cell_type": "code",
   "execution_count": 2,
   "metadata": {},
   "outputs": [
    {
     "name": "stdout",
     "output_type": "stream",
     "text": [
      "       project_id                                               name  \\\n",
      "0  kkst1451568084                                drawing for dollars   \n",
      "1  kkst1474482071  Sponsor Dereck Blackburn (Lostwars) Artist in ...   \n",
      "\n",
      "                                                desc   goal  \\\n",
      "0  I like drawing pictures. and then i color them...   20.0   \n",
      "1  I, Dereck Blackburn will be taking upon an inc...  300.0   \n",
      "\n",
      "                                            keywords  disable_communication  \\\n",
      "0                                drawing-for-dollars                  False   \n",
      "1  sponsor-dereck-blackburn-lostwars-artist-in-re...                  False   \n",
      "\n",
      "  country currency    deadline  state_changed_at  created_at  launched_at  \\\n",
      "0      US      USD  1241333999        1241334017  1240600507   1240602723   \n",
      "1      US      USD  1242429000        1242432018  1240960224   1240975592   \n",
      "\n",
      "   backers_count  final_status  \n",
      "0              3             1  \n",
      "1              2             0  \n",
      "0    I like drawing pictures. and then i color them...\n",
      "Name: desc, dtype: object\n"
     ]
    }
   ],
   "source": [
    "#2. Visualize train data first\n",
    "print(train.head(n=2))\n",
    "print(train['desc'].head(n=1))\n",
    "difference = 0.663955515767 - 0.652  #the baseline model difference between validation accuracy and test accuracy."
   ]
  },
  {
   "cell_type": "code",
   "execution_count": 3,
   "metadata": {},
   "outputs": [
    {
     "name": "stderr",
     "output_type": "stream",
     "text": [
      "c:\\users\\sethuiyer\\appdata\\local\\programs\\python\\python35\\lib\\site-packages\\sklearn\\cross_validation.py:44: DeprecationWarning: This module was deprecated in version 0.18 in favor of the model_selection module into which all the refactored classes and functions are moved. Also note that the interface of the new CV iterators are different from that of this module. This module will be removed in 0.20.\n",
      "  \"This module will be removed in 0.20.\", DeprecationWarning)\n"
     ]
    },
    {
     "name": "stdout",
     "output_type": "stream",
     "text": [
      "0.678285012489\n"
     ]
    }
   ],
   "source": [
    "from sklearn.feature_extraction.text import CountVectorizer\n",
    "from sklearn.feature_extraction.text import TfidfTransformer\n",
    "from sklearn.ensemble import VotingClassifier\n",
    "from sklearn.naive_bayes import MultinomialNB\n",
    "from sklearn.linear_model import SGDClassifier\n",
    "from sklearn import cross_validation\n",
    "from sklearn.pipeline import Pipeline\n",
    "\n",
    "train.dropna(axis=0,how='any')\n",
    "test.dropna(axis=0,how='any')\n",
    "\n",
    "text_clf_sgd=Pipeline([('vect',CountVectorizer()),('tfidf',TfidfTransformer(use_idf=True)),('clf', SGDClassifier(loss='hinge', penalty='l2',alpha=1e-3, n_iter=5, random_state=42))])\n",
    "text_clf_nvb=Pipeline([('vect',CountVectorizer()),('tfidf',TfidfTransformer(use_idf=True)),('clf', MultinomialNB())])\n",
    "\n",
    "X_train=train['desc'].values.astype('U')\n",
    "target = train['final_status'].values.astype(np.int32)\n",
    "X_test = test['desc'].values.astype('U')\n",
    "\n",
    "eclf1 = VotingClassifier(estimators=[('sgd', text_clf_sgd), ('nvb', text_clf_nvb)],voting='hard',weights=[1,2])\n",
    "kfold=cross_validation.StratifiedKFold(target,10)\n",
    "print(np.mean(cross_validation.cross_val_score(eclf1,X_train,target,cv=kfold,n_jobs=-1)) - difference)\n",
    "\n",
    "eclf1.fit(X_train,target)\n",
    "eclf_pred=eclf1.predict(X_test)"
   ]
  },
  {
   "cell_type": "code",
   "execution_count": 4,
   "metadata": {},
   "outputs": [
    {
     "name": "stdout",
     "output_type": "stream",
     "text": [
      "0.666428678982\n"
     ]
    }
   ],
   "source": [
    "from sklearn.preprocessing import LabelEncoder\n",
    "\n",
    "feat = ['disable_communication','country']\n",
    "for x in feat:\n",
    "    le = LabelEncoder()\n",
    "    le.fit(list(train[x].values) + list(test[x].values))\n",
    "    train[x] = le.transform(list(train[x]))\n",
    "    test[x] = le.transform(list(test[x].values))\n",
    "\n",
    "colns_to_use=['goal','disable_communication','country']\n",
    "X_train = train[colns_to_use]\n",
    "X_test = test[colns_to_use]\n",
    "\n",
    "from sklearn.ensemble import RandomForestClassifier\n",
    "rfc = RandomForestClassifier(n_estimators=300,max_depth=8,max_features=2)\n",
    "kfold=cross_validation.StratifiedKFold(target,10)\n",
    "print(np.mean(cross_validation.cross_val_score(rfc,X_train,target,cv=kfold,n_jobs=-1)) - difference)\n",
    "rfc.fit(X_train,target)\n",
    "rfc_pred=rfc.predict(X_test)"
   ]
  },
  {
   "cell_type": "code",
   "execution_count": 5,
   "metadata": {},
   "outputs": [
    {
     "name": "stdout",
     "output_type": "stream",
     "text": [
      "0    73568\n",
      "1    34561\n",
      "Name: final_status, dtype: int64\n"
     ]
    }
   ],
   "source": [
    "print(train['final_status'].value_counts()) #more likely to get rejected than selected"
   ]
  },
  {
   "cell_type": "code",
   "execution_count": 6,
   "metadata": {},
   "outputs": [],
   "source": [
    "final_pred = rfc_pred * eclf_pred #if any one of them becomes 1, final prediction becomes one. \n",
    "\n",
    "submission = pd.DataFrame({'project_id':test['project_id'],'final_status':final_pred})\n",
    "submission = submission[['project_id','final_status']]\n",
    "submission.to_csv(\"pipeline_plus_goal.csv\",index = False)"
   ]
  }
 ],
 "metadata": {
  "kernelspec": {
   "display_name": "Python 3",
   "language": "python",
   "name": "python3"
  },
  "language_info": {
   "codemirror_mode": {
    "name": "ipython",
    "version": 3
   },
   "file_extension": ".py",
   "mimetype": "text/x-python",
   "name": "python",
   "nbconvert_exporter": "python",
   "pygments_lexer": "ipython3",
   "version": "3.5.2"
  }
 },
 "nbformat": 4,
 "nbformat_minor": 2
}
