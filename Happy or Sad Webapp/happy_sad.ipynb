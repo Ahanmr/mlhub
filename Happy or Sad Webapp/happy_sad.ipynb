{
 "cells": [
  {
   "cell_type": "markdown",
   "metadata": {},
   "source": [
    "# Happy or Sad Image Classifier\n",
    "\n",
    "<table>\n",
    "<tr>\n",
    "<td><img src=\"./data/train/happy_face/smile.jpg\" height=\"224px\" width=\"224px\"></td>\n",
    "<td><img src=\"./data/train/sad_face/crying.jpg\" height=\"204px\" width=\"224px\"></td>\n",
    "</tr>\n",
    "<tr>\n",
    "<td> <h3 align=\"center\">Label: Happy </h3> </td>\n",
    "<td> <h3 align=\"center\">Label: sad </h3></td>\n",
    "</tr>\n",
    "</table>"
   ]
  },
  {
   "cell_type": "code",
   "execution_count": 1,
   "metadata": {},
   "outputs": [
    {
     "name": "stderr",
     "output_type": "stream",
     "text": [
      "Using TensorFlow backend.\n"
     ]
    }
   ],
   "source": [
    "#Step 1: Use Pretrained VGG16 network and extract the features.\n",
    "\n",
    "from keras.applications import VGG16,imagenet_utils\n",
    "from keras.preprocessing.image import load_img,img_to_array\n",
    "import numpy as np\n",
    "from keras.models import Model\n",
    "preprocess = imagenet_utils.preprocess_input\n",
    "model = VGG16(weights=\"imagenet\")\n",
    "new_model = Model(inputs=model.input,outputs=model.layers[21].output)\n",
    "\n",
    "def convert_img_to_vector(img_path):\n",
    "    image = load_img(img_path,target_size=(224,224))\n",
    "    image = img_to_array(image)\n",
    "    image = np.expand_dims(image,axis=0)\n",
    "    image = preprocess(image)\n",
    "    return image\n",
    "\n",
    "def get_image_feature(img_path):\n",
    "    feats = np.transpose(new_model.predict(convert_img_to_vector(img_path)))\n",
    "    return feats"
   ]
  },
  {
   "cell_type": "code",
   "execution_count": 2,
   "metadata": {},
   "outputs": [
    {
     "name": "stdout",
     "output_type": "stream",
     "text": [
      "(348, 4096) (16, 4096)\n"
     ]
    }
   ],
   "source": [
    "#2. Import the custom dataset and compute the top 4096 features.\n",
    "import glob\n",
    "train_happy = glob.glob('./data/train/happy_face/*')\n",
    "train_sad = glob.glob('./data/train/sad_face/*')\n",
    "\n",
    "total_train = len(train_happy) + len(train_sad)\n",
    "\n",
    "val_happy = glob.glob('./data/validation/happy_face/*')\n",
    "val_sad = glob.glob('./data/validation/sad_face/*')\n",
    "\n",
    "total_val = len(val_happy) + len(val_sad)\n",
    "\n",
    "feats_train_happy = np.array([[get_image_feature(filename)] for filename in train_happy])\n",
    "feats_train_sad = np.array([[get_image_feature(filename)] for filename in train_sad])\n",
    "feats_train = np.hstack([feats_train_happy,feats_train_sad]).reshape(-1,4096)\n",
    "del feats_train_happy,feats_train_sad  #we dont require\n",
    "\n",
    "feats_val_happy = np.array([[get_image_feature(filename)] for filename in val_happy])\n",
    "feats_val_sad = np.array([[get_image_feature(filename)] for filename in val_sad])\n",
    "feats_val = np.hstack([feats_val_happy,feats_val_sad]).reshape(-1,4096)\n",
    "del feats_val_happy,feats_val_sad #we dont require\n",
    "print(feats_train.shape,feats_val.shape)"
   ]
  },
  {
   "cell_type": "code",
   "execution_count": 4,
   "metadata": {},
   "outputs": [],
   "source": [
    "#3. Define out model.\n",
    "from keras.optimizers import rmsprop\n",
    "from keras.models import Sequential\n",
    "from keras.layers import Dropout,Flatten,Dense\n",
    "model = Sequential()\n",
    "model.add(Dense(256, activation=\"relu\", input_shape=(4096,), kernel_initializer=\"normal\"))\n",
    "model.add(Dense(1, activation=\"sigmoid\", kernel_initializer=\"normal\"))\n",
    "opt = rmsprop(lr=0.0001, decay=1e-6)\n",
    "model.compile(optimizer=opt,loss='binary_crossentropy',metrics=['accuracy'])"
   ]
  },
  {
   "cell_type": "code",
   "execution_count": 5,
   "metadata": {},
   "outputs": [
    {
     "name": "stdout",
     "output_type": "stream",
     "text": [
      "(348, 1) (16, 1)\n"
     ]
    }
   ],
   "source": [
    "#4. Defining our Output label.\n",
    "train_labels = np.array([[0]*174 + [1] * 174]).reshape(-1,1)  #174 happy image, sad image for training respectively\n",
    "validation_labels = np.array([[0] * 8 + [1] * 8]).reshape(-1,1) #8 validation happy image and sad image.\n",
    "print(train_labels.shape,validation_labels.shape)"
   ]
  },
  {
   "cell_type": "code",
   "execution_count": 6,
   "metadata": {},
   "outputs": [
    {
     "name": "stdout",
     "output_type": "stream",
     "text": [
      "Train on 348 samples, validate on 16 samples\n",
      "Epoch 1/10\n",
      "348/348 [==============================] - 0s - loss: 0.8608 - acc: 0.4856 - val_loss: 0.8842 - val_acc: 0.6250\n",
      "Epoch 2/10\n",
      "348/348 [==============================] - 0s - loss: 0.5874 - acc: 0.7011 - val_loss: 0.8192 - val_acc: 0.6250\n",
      "Epoch 3/10\n",
      "348/348 [==============================] - 0s - loss: 0.4705 - acc: 0.7701 - val_loss: 0.8702 - val_acc: 0.6250\n",
      "Epoch 4/10\n",
      "348/348 [==============================] - 0s - loss: 0.3836 - acc: 0.8534 - val_loss: 0.9156 - val_acc: 0.6250\n",
      "Epoch 5/10\n",
      "348/348 [==============================] - 0s - loss: 0.3251 - acc: 0.8851 - val_loss: 1.0280 - val_acc: 0.5000\n",
      "Epoch 6/10\n",
      "348/348 [==============================] - 0s - loss: 0.2783 - acc: 0.9282 - val_loss: 1.0745 - val_acc: 0.6250\n",
      "Epoch 7/10\n",
      "348/348 [==============================] - 0s - loss: 0.2305 - acc: 0.9425 - val_loss: 1.0739 - val_acc: 0.6250\n",
      "Epoch 8/10\n",
      "348/348 [==============================] - 0s - loss: 0.2191 - acc: 0.9397 - val_loss: 1.0508 - val_acc: 0.5625\n",
      "Epoch 9/10\n",
      "348/348 [==============================] - 0s - loss: 0.1783 - acc: 0.9626 - val_loss: 1.1650 - val_acc: 0.5625\n",
      "Epoch 10/10\n",
      "348/348 [==============================] - 0s - loss: 0.1724 - acc: 0.9713 - val_loss: 1.1637 - val_acc: 0.6250\n",
      "Training Completed!\n"
     ]
    }
   ],
   "source": [
    "#5.train our model\n",
    "model.fit(feats_train,train_labels,epochs=10,batch_size=16,validation_data=(feats_val,validation_labels),verbose=1)\n",
    "print('Training Completed!')"
   ]
  },
  {
   "cell_type": "code",
   "execution_count": 7,
   "metadata": {},
   "outputs": [],
   "source": [
    "#6. finding out the optimal threshold.\n",
    "from sklearn.metrics import roc_curve\n",
    "import pandas as pd\n",
    "def Find_Optimal_Cutoff(target, predicted):\n",
    "    \"\"\" Find the optimal probability cutoff point for a classification model related to event rate\n",
    "    Parameters\n",
    "    ----------\n",
    "    target : Matrix with dependent or target data, where rows are observations\n",
    "\n",
    "    predicted : Matrix with predicted data, where rows are observations\n",
    "\n",
    "    Returns\n",
    "    -------     \n",
    "    list type, with optimal cutoff value\n",
    "\n",
    "    \"\"\"\n",
    "    fpr, tpr, threshold = roc_curve(target, predicted)\n",
    "    i = np.arange(len(tpr)) \n",
    "    roc = pd.DataFrame({'tf' : pd.Series(tpr-(1-fpr), index=i), 'threshold' : pd.Series(threshold, index=i)})\n",
    "    roc_t = roc.iloc[(roc.tf-0).abs().argsort()[:1]]\n",
    "\n",
    "    return list(roc_t['threshold']) \n",
    "predicted = np.array([model.predict_proba(feats.reshape(-1,4096),verbose=0).reshape(1)[0] for feats in feats_val]).reshape(-1,1)\n",
    "threshold = Find_Optimal_Cutoff(validation_labels,predicted)[0]"
   ]
  },
  {
   "cell_type": "code",
   "execution_count": 8,
   "metadata": {},
   "outputs": [],
   "source": [
    "#7. Writing our main predict function\n",
    "\n",
    "def predict_mood(img_path):\n",
    "    feats = get_image_feature(img_path)\n",
    "    feats = feats.reshape(-1,4096)\n",
    "    predicted_probab = model.predict_proba(feats,verbose=0)\n",
    "    if predicted_probab > threshold:\n",
    "        return 'Sad'\n",
    "    else:\n",
    "        return 'Happy'"
   ]
  },
  {
   "cell_type": "code",
   "execution_count": 9,
   "metadata": {},
   "outputs": [
    {
     "data": {
      "image/jpeg": "[encoded data removed]",
      "text/plain": [
       "<IPython.core.display.Image object>"
      ]
     },
     "execution_count": 9,
     "metadata": {},
     "output_type": "execute_result"
    }
   ],
   "source": [
    "from IPython.display import Image\n",
    "Image(filename='./data/validation/happy_face/happy_woman.jpg')"
   ]
  },
  {
   "cell_type": "code",
   "execution_count": 11,
   "metadata": {},
   "outputs": [
    {
     "data": {
      "text/plain": [
       "'Happy'"
      ]
     },
     "execution_count": 11,
     "metadata": {},
     "output_type": "execute_result"
    }
   ],
   "source": [
    "predict_mood('./data/validation/happy_face/happy_woman.jpg')"
   ]
  },
  {
   "cell_type": "code",
   "execution_count": 12,
   "metadata": {},
   "outputs": [
    {
     "data": {
      "image/jpeg": "[encoded data removed]",
      "text/plain": [
       "<IPython.core.display.Image object>"
      ]
     },
     "execution_count": 12,
     "metadata": {},
     "output_type": "execute_result"
    }
   ],
   "source": [
    "from IPython.display import Image\n",
    "Image(filename='./data/validation/sad_face/crying_baby.jpg')"
   ]
  },
  {
   "cell_type": "code",
   "execution_count": 13,
   "metadata": {},
   "outputs": [
    {
     "data": {
      "text/plain": [
       "'Sad'"
      ]
     },
     "execution_count": 13,
     "metadata": {},
     "output_type": "execute_result"
    }
   ],
   "source": [
    "predict_mood('./data/validation/sad_face/crying_baby.jpg')"
   ]
  }
 ],
 "metadata": {
  "kernelspec": {
   "display_name": "Python 3",
   "language": "python",
   "name": "python3"
  },
  "language_info": {
   "codemirror_mode": {
    "name": "ipython",
    "version": 3
   },
   "file_extension": ".py",
   "mimetype": "text/x-python",
   "name": "python",
   "nbconvert_exporter": "python",
   "pygments_lexer": "ipython3",
   "version": "3.5.2"
  }
 },
 "nbformat": 4,
 "nbformat_minor": 2
}
